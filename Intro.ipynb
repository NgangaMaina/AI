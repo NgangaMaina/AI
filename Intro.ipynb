{
 "cells": [
  {
   "cell_type": "code",
   "id": "initial_id",
   "metadata": {
    "collapsed": true,
    "ExecuteTime": {
     "end_time": "2025-08-27T06:00:03.198355Z",
     "start_time": "2025-08-27T06:00:03.190616Z"
    }
   },
   "source": "print(\"Hello world!\")",
   "outputs": [
    {
     "name": "stdout",
     "output_type": "stream",
     "text": [
      "Hello world!\n"
     ]
    }
   ],
   "execution_count": 2
  },
  {
   "metadata": {
    "ExecuteTime": {
     "end_time": "2025-08-27T06:10:38.450698Z",
     "start_time": "2025-08-27T06:10:38.428495Z"
    }
   },
   "cell_type": "code",
   "source": [
    "# y= mx + c: y(output) = m(weight) . x(input) + c(Bias)\n",
    "#linear_regression\n",
    "def linear(x):\n",
    "    m = 0.5\n",
    "    c = 2\n",
    "    y = m * float(x) + c\n",
    "    return y\n"
   ],
   "id": "2db24c0ea2ecea5e",
   "outputs": [],
   "execution_count": 8
  },
  {
   "metadata": {
    "ExecuteTime": {
     "end_time": "2025-08-27T06:11:33.295596Z",
     "start_time": "2025-08-27T06:11:29.093355Z"
    }
   },
   "cell_type": "code",
   "source": [
    "temp = input(\"Enter a value for x: \")\n",
    "print(type(temp))\n",
    "linear(temp)"
   ],
   "id": "bbada7772bb09e4a",
   "outputs": [
    {
     "name": "stdout",
     "output_type": "stream",
     "text": [
      "<class 'str'>\n"
     ]
    },
    {
     "data": {
      "text/plain": [
       "5.0"
      ]
     },
     "execution_count": 10,
     "metadata": {},
     "output_type": "execute_result"
    }
   ],
   "execution_count": 10
  },
  {
   "metadata": {},
   "cell_type": "code",
   "outputs": [],
   "execution_count": null,
   "source": "",
   "id": "7714f85fcac8c4c5"
  }
 ],
 "metadata": {
  "kernelspec": {
   "display_name": "Python 3",
   "language": "python",
   "name": "python3"
  },
  "language_info": {
   "codemirror_mode": {
    "name": "ipython",
    "version": 2
   },
   "file_extension": ".py",
   "mimetype": "text/x-python",
   "name": "python",
   "nbconvert_exporter": "python",
   "pygments_lexer": "ipython2",
   "version": "2.7.6"
  }
 },
 "nbformat": 4,
 "nbformat_minor": 5
}
