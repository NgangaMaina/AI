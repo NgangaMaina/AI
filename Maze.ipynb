{
 "cells": [
  {
   "cell_type": "code",
   "id": "initial_id",
   "metadata": {
    "collapsed": true,
    "ExecuteTime": {
     "end_time": "2025-09-17T06:23:07.981184Z",
     "start_time": "2025-09-17T06:23:07.957115Z"
    }
   },
   "source": [
    "maze = [\n",
    "    [0, 1, 0, 0, 0],\n",
    "    [0, 1, 0, 1, 0],\n",
    "    [0, 0, 0, 1, 0],\n",
    "    [1, 1, 0, 1, 0],\n",
    "    [0, 0, 0, 0, 0]\n",
    "]\n",
    "\n",
    "start = (0, 0)   # starting position\n",
    "goal = (4, 4)    # goal position"
   ],
   "outputs": [],
   "execution_count": 18
  },
  {
   "metadata": {
    "ExecuteTime": {
     "end_time": "2025-09-17T06:23:10.368564Z",
     "start_time": "2025-09-17T06:23:10.361548Z"
    }
   },
   "cell_type": "code",
   "source": [
    "\n",
    "\n",
    "def get_neighbors(maze, node):\n",
    "    x, y = node\n",
    "    neighbors = []\n",
    "\n",
    "    # Possible moves: right, down, left, up\n",
    "    moves = [(1,0), (-1,0), (0,1), (0,-1)]\n",
    "\n",
    "    # Uncomment this line if you also want diagonal moves\n",
    "    # moves += [(1,1), (-1,-1), (1,-1), (-1,1)]  # diagonals\n",
    "\n",
    "    for dx, dy in moves:\n",
    "        nx, ny = x + dx, y + dy\n",
    "        # Check if new position is inside maze boundaries\n",
    "        if 0 <= nx < len(maze) and 0 <= ny < len(maze[0]):\n",
    "            # Check if the cell is free (0 = free, 1 = wall)\n",
    "            if maze[nx][ny] == 0:\n",
    "                neighbors.append((nx, ny))\n",
    "    return neighbors\n"
   ],
   "id": "ca0e4bef4807cebf",
   "outputs": [],
   "execution_count": 19
  },
  {
   "metadata": {
    "ExecuteTime": {
     "end_time": "2025-09-17T06:23:13.635526Z",
     "start_time": "2025-09-17T06:23:13.628961Z"
    }
   },
   "cell_type": "code",
   "source": [
    "# BFS: Breadth First Search > Queue (FIFO)> Need to know whats in the queue\n",
    "\n",
    "from collections import deque\n",
    "\n",
    "# BFS - explores the maze level by level, Faster than DFS\n",
    "def bfs(maze, start, goal):\n",
    "    # queue stores (current_position, path_taken)\n",
    "    queue = deque([(start, [start])])\n",
    "    visited = set()  # keep track of visited positions\n",
    "\n",
    "    while queue:\n",
    "        node, path = queue.popleft()  # take the first item in queue\n",
    "        if node == goal:\n",
    "            return path  # found goal, return path\n",
    "        if node not in visited:\n",
    "            visited.add(node)\n",
    "            for neighbor in get_neighbors(maze, node):\n",
    "                queue.append((neighbor, path + [neighbor]))\n",
    "    return None  # no path found"
   ],
   "id": "d1b7e81d6c8789d4",
   "outputs": [],
   "execution_count": 20
  },
  {
   "metadata": {
    "ExecuteTime": {
     "end_time": "2025-09-17T06:23:17.066432Z",
     "start_time": "2025-09-17T06:23:17.061036Z"
    }
   },
   "cell_type": "code",
   "source": [
    "# DFS - goes as deep as possible along one path before backtracking\n",
    "def dfs(maze, start, goal):\n",
    "    stack = [(start, [start])]  # stack stores (current_position, path_taken)\n",
    "    visited = set()\n",
    "\n",
    "    while stack:\n",
    "        node, path = stack.pop()  # take last item in stack\n",
    "        if node == goal:\n",
    "            return path\n",
    "        if node not in visited:\n",
    "            visited.add(node)\n",
    "            for neighbor in get_neighbors(maze, node):\n",
    "                stack.append((neighbor, path + [neighbor]))\n",
    "    return None"
   ],
   "id": "289f470bc3e5de56",
   "outputs": [],
   "execution_count": 21
  },
  {
   "metadata": {
    "ExecuteTime": {
     "end_time": "2025-09-17T06:23:20.214688Z",
     "start_time": "2025-09-17T06:23:20.209253Z"
    }
   },
   "cell_type": "code",
   "source": [
    "# DLS - DFS with a maximum depth limit\n",
    "def dls(maze, start, goal, limit):\n",
    "    stack = [(start, [start])]\n",
    "    while stack:\n",
    "        node, path = stack.pop()\n",
    "        if node == goal:\n",
    "            return path\n",
    "        # Only continue if we haven't exceeded the depth limit\n",
    "        if len(path) <= limit:\n",
    "            for neighbor in get_neighbors(maze, node):\n",
    "                stack.append((neighbor, path + [neighbor]))\n",
    "    return None"
   ],
   "id": "1d6858c91a54f54b",
   "outputs": [],
   "execution_count": 22
  },
  {
   "metadata": {
    "ExecuteTime": {
     "end_time": "2025-09-17T06:23:22.684331Z",
     "start_time": "2025-09-17T06:23:22.679717Z"
    }
   },
   "cell_type": "code",
   "source": [
    "def iddfs(maze, start, goal, max_depth):\n",
    "    for depth in range(max_depth + 1):\n",
    "        result = dls(maze, start, goal, depth)\n",
    "        if result:\n",
    "            return result\n",
    "    return None\n"
   ],
   "id": "d5c4011a591c43a2",
   "outputs": [],
   "execution_count": 23
  },
  {
   "metadata": {
    "ExecuteTime": {
     "end_time": "2025-09-17T06:23:26.075242Z",
     "start_time": "2025-09-17T06:23:26.069520Z"
    }
   },
   "cell_type": "code",
   "source": [
    "import heapq\n",
    "\n",
    "\n",
    "# UCS >> Uniform Cost Search >> PQ\n",
    "\n",
    "def ucs(maze, start, goal):\n",
    "    pq = [(0, start, [start])]\n",
    "\n",
    "    visited = {}\n",
    "\n",
    "    while pq:\n",
    "        cost, node, path = heapq.heappop(pq)\n",
    "        # print(path)\n",
    "\n",
    "        if node == goal:\n",
    "            return path\n",
    "\n",
    "        if node in visited and visited[node] <= cost:\n",
    "            continue\n",
    "\n",
    "        visited[node] = cost\n",
    "\n",
    "        for neighbor in get_neighbors(maze, node):\n",
    "            heapq.heappush(pq, (cost + 1, neighbor, path + [neighbor]))\n",
    "\n",
    "    return None"
   ],
   "id": "ff84fb79325625e",
   "outputs": [],
   "execution_count": 24
  },
  {
   "metadata": {
    "ExecuteTime": {
     "end_time": "2025-09-17T06:23:29.493058Z",
     "start_time": "2025-09-17T06:23:29.480466Z"
    }
   },
   "cell_type": "code",
   "source": [
    "# Run and compare algorithms (agent problem solving strategies)\n",
    "algorithms = {\n",
    "    \"DFS\": lambda m, s, g: dfs(m, s, g),\n",
    "    \"BFS\": lambda m, s, g: bfs(m, s, g),\n",
    "    \"DLS (limit=10)\": lambda m, s, g: dls(m, s, g, limit=5),\n",
    "    \"IDDFS\": lambda m, s, g: iddfs(m, s, g, max_depth=15),\n",
    "    \"UCS\": lambda m, s, g: ucs(m, s, g)\n",
    "}\n",
    "\n",
    "for name, algo in algorithms.items():\n",
    "    path = algo(maze, start, goal)\n",
    "    if path:\n",
    "        print(f\"{name}: Reached goal in {len(path)-1} moves\")\n",
    "        print(f\"Path: {path}\\n\")\n",
    "        # print(f\"{start}\\n {goal}\")\n",
    "    else:\n",
    "        print(f\"{name}: Failed\\n\")"
   ],
   "id": "96bc60d938666118",
   "outputs": [
    {
     "name": "stdout",
     "output_type": "stream",
     "text": [
      "DFS: Reached goal in 12 moves\n",
      "Path: [(0, 0), (1, 0), (2, 0), (2, 1), (2, 2), (1, 2), (0, 2), (0, 3), (0, 4), (1, 4), (2, 4), (3, 4), (4, 4)]\n",
      "\n",
      "BFS: Reached goal in 8 moves\n",
      "Path: [(0, 0), (1, 0), (2, 0), (2, 1), (2, 2), (3, 2), (4, 2), (4, 3), (4, 4)]\n",
      "\n",
      "DLS (limit=10): Failed\n",
      "\n",
      "IDDFS: Reached goal in 8 moves\n",
      "Path: [(0, 0), (1, 0), (2, 0), (2, 1), (2, 2), (3, 2), (4, 2), (4, 3), (4, 4)]\n",
      "\n",
      "UCS: Reached goal in 8 moves\n",
      "Path: [(0, 0), (1, 0), (2, 0), (2, 1), (2, 2), (3, 2), (4, 2), (4, 3), (4, 4)]\n",
      "\n"
     ]
    }
   ],
   "execution_count": 25
  }
 ],
 "metadata": {
  "kernelspec": {
   "display_name": "Python 3",
   "language": "python",
   "name": "python3"
  },
  "language_info": {
   "codemirror_mode": {
    "name": "ipython",
    "version": 2
   },
   "file_extension": ".py",
   "mimetype": "text/x-python",
   "name": "python",
   "nbconvert_exporter": "python",
   "pygments_lexer": "ipython2",
   "version": "2.7.6"
  }
 },
 "nbformat": 4,
 "nbformat_minor": 5
}
