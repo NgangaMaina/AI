{
 "cells": [
  {
   "cell_type": "code",
   "id": "initial_id",
   "metadata": {
    "collapsed": true,
    "ExecuteTime": {
     "end_time": "2025-09-27T07:00:22.029968Z",
     "start_time": "2025-09-27T07:00:22.023967Z"
    }
   },
   "source": [
    "\n",
    "maze1 = [\n",
    "    [0, 0, 0, 0, 0, 0, 0, 0, 0, 0],\n",
    "    [0, 1, 1, 1, 1, 0, 1, 1, 1, 0],\n",
    "    [0, 0, 0, 0, 1, 0, 0, 0, 1, 0],\n",
    "    [1, 1, 1, 0, 1, 1, 1, 0, 1, 0],\n",
    "    [0, 0, 0, 0, 0, 0, 1, 0, 0, 0],\n",
    "    [0, 1, 1, 1, 1, 0, 1, 1, 1, 0],\n",
    "    [0, 1, 0, 0, 0, 0, 0, 0, 1, 0],\n",
    "    [0, 1, 0, 1, 1, 1, 1, 0, 1, 0],\n",
    "    [0, 0, 0, 1, 0, 0, 0, 0, 0, 0],\n",
    "    [1, 1, 0, 0, 0, 1, 1, 1, 1, 0],\n",
    "]\n",
    "\n",
    "\n",
    "maze2 = [\n",
    "    [0, 1, 0, 1, 0, 1, 0, 1, 0, 0],\n",
    "    [0, 1, 0, 1, 0, 1, 0, 1, 1, 0],\n",
    "    [0, 0, 0, 0, 0, 0, 0, 0, 1, 0],\n",
    "    [1, 1, 1, 1, 1, 1, 1, 0, 1, 0],\n",
    "    [0, 0, 0, 0, 0, 0, 1, 0, 0, 0],\n",
    "    [0, 1, 1, 1, 1, 0, 1, 1, 1, 0],\n",
    "    [0, 1, 0, 0, 0, 0, 0, 0, 1, 0],\n",
    "    [0, 1, 0, 1, 1, 1, 1, 0, 1, 0],\n",
    "    [0, 0, 0, 1, 0, 0, 0, 0, 0, 0],\n",
    "    [1, 1, 0, 0, 0, 1, 1, 1, 1, 0],\n",
    "]\n",
    "\n",
    "\n",
    "start = (0, 0)\n",
    "goal = (9, 9)"
   ],
   "outputs": [],
   "execution_count": 7
  },
  {
   "metadata": {
    "ExecuteTime": {
     "end_time": "2025-09-27T07:00:25.336245Z",
     "start_time": "2025-09-27T07:00:25.331120Z"
    }
   },
   "cell_type": "code",
   "source": [
    "\n",
    "\n",
    "def get_neighbors(maze, node):\n",
    "    x, y = node\n",
    "    neighbors = []\n",
    "\n",
    "    # Possible moves: right, down, left, up\n",
    "    moves = [(1,0), (-1,0), (0,1), (0,-1)]\n",
    "\n",
    "    # Uncomment this line if you also want diagonal moves\n",
    "    # moves += [(1,1), (-1,-1), (1,-1), (-1,1)]  # diagonals\n",
    "\n",
    "    for dx, dy in moves:\n",
    "        nx, ny = x + dx, y + dy\n",
    "        # Check if new position is inside maze boundaries\n",
    "        if 0 <= nx < len(maze) and 0 <= ny < len(maze[0]):\n",
    "            # Check if the cell is free (0 = free, 1 = wall)\n",
    "            if maze[nx][ny] == 0:\n",
    "                neighbors.append((nx, ny))\n",
    "    return neighbors\n"
   ],
   "id": "ca0e4bef4807cebf",
   "outputs": [],
   "execution_count": 8
  },
  {
   "metadata": {
    "ExecuteTime": {
     "end_time": "2025-09-27T07:00:28.154966Z",
     "start_time": "2025-09-27T07:00:28.150756Z"
    }
   },
   "cell_type": "code",
   "source": [
    "# BFS: Breadth First Search > Queue (FIFO)> Need to know whats in the queue\n",
    "\n",
    "from collections import deque\n",
    "\n",
    "# BFS - explores the maze level by level, Faster than DFS\n",
    "def bfs(maze, start, goal):\n",
    "    # queue stores (current_position, path_taken)\n",
    "    queue = deque([(start, [start])])\n",
    "    visited = set()  # keep track of visited positions\n",
    "\n",
    "    while queue:\n",
    "        node, path = queue.popleft()  # take the first item in queue\n",
    "        if node == goal:\n",
    "            return path  # found goal, return path\n",
    "        if node not in visited:\n",
    "            visited.add(node)\n",
    "            for neighbor in get_neighbors(maze, node):\n",
    "                queue.append((neighbor, path + [neighbor]))\n",
    "    return None  # no path found"
   ],
   "id": "d1b7e81d6c8789d4",
   "outputs": [],
   "execution_count": 9
  },
  {
   "metadata": {
    "ExecuteTime": {
     "end_time": "2025-09-27T07:00:31.942957Z",
     "start_time": "2025-09-27T07:00:31.938111Z"
    }
   },
   "cell_type": "code",
   "source": [
    "# DFS - goes as deep as possible along one path before backtracking\n",
    "def dfs(maze, start, goal):\n",
    "    stack = [(start, [start])]  # stack stores (current_position, path_taken)\n",
    "    visited = set()\n",
    "\n",
    "    while stack:\n",
    "        node, path = stack.pop()  # take last item in stack\n",
    "        if node == goal:\n",
    "            return path\n",
    "        if node not in visited:\n",
    "            visited.add(node)\n",
    "            for neighbor in get_neighbors(maze, node):\n",
    "                stack.append((neighbor, path + [neighbor]))\n",
    "    return None"
   ],
   "id": "289f470bc3e5de56",
   "outputs": [],
   "execution_count": 10
  },
  {
   "metadata": {
    "ExecuteTime": {
     "end_time": "2025-09-27T07:00:34.677758Z",
     "start_time": "2025-09-27T07:00:34.673142Z"
    }
   },
   "cell_type": "code",
   "source": [
    "# DLS - DFS with a maximum depth limit\n",
    "def dls(maze, start, goal, limit):\n",
    "    stack = [(start, [start])]\n",
    "    while stack:\n",
    "        node, path = stack.pop()\n",
    "        if node == goal:\n",
    "            return path\n",
    "        # Only continue if we haven't exceeded the depth limit\n",
    "        if len(path) <= limit:\n",
    "            for neighbor in get_neighbors(maze, node):\n",
    "                stack.append((neighbor, path + [neighbor]))\n",
    "    return None"
   ],
   "id": "1d6858c91a54f54b",
   "outputs": [],
   "execution_count": 11
  },
  {
   "metadata": {
    "ExecuteTime": {
     "end_time": "2025-09-27T07:00:37.513355Z",
     "start_time": "2025-09-27T07:00:37.509351Z"
    }
   },
   "cell_type": "code",
   "source": [
    "def iddfs(maze, start, goal, max_depth):\n",
    "    for depth in range(max_depth + 1):\n",
    "        result = dls(maze, start, goal, depth)\n",
    "        if result:\n",
    "            return result\n",
    "    return None\n"
   ],
   "id": "d5c4011a591c43a2",
   "outputs": [],
   "execution_count": 12
  },
  {
   "metadata": {
    "ExecuteTime": {
     "end_time": "2025-09-27T07:00:42.331690Z",
     "start_time": "2025-09-27T07:00:42.326110Z"
    }
   },
   "cell_type": "code",
   "source": [
    "import heapq\n",
    "\n",
    "# UCS - Uniform Cost Search using while loop\n",
    "def ucs(maze, start, goal):\n",
    "    # Priority queue: (cost, node, path)\n",
    "    pq = [(0, start, [start])]\n",
    "    visited = {}\n",
    "\n",
    "\n",
    "    while pq:\n",
    "        cost, node, path = heapq.heappop(pq)\n",
    "\n",
    "        if node == goal:\n",
    "            return path\n",
    "\n",
    "        # Skip if we've found a better path to this node\n",
    "        if node in visited and visited[node] <= cost:\n",
    "            continue\n",
    "\n",
    "        visited[node] = cost\n",
    "\n",
    "        # Add neighbors to priority queue\n",
    "        for neighbor in get_neighbors(maze, node):\n",
    "            heapq.heappush(pq, (cost + 1, neighbor, path + [neighbor]))\n",
    "\n",
    "    return None"
   ],
   "id": "ff84fb79325625e",
   "outputs": [],
   "execution_count": 13
  },
  {
   "metadata": {
    "ExecuteTime": {
     "end_time": "2025-09-27T07:00:45.289608Z",
     "start_time": "2025-09-27T07:00:45.285312Z"
    }
   },
   "cell_type": "code",
   "source": [
    "def test_algorithm(maze, start, goal, algorithm_name, algorithm_func):\n",
    "\n",
    "    print(f\"Running {algorithm_name}:\")\n",
    "\n",
    "\n",
    "    path = algorithm_func(maze, start, goal)\n",
    "\n",
    "    if path:\n",
    "        print(f\"  ✓ Path found! Length: {len(path) - 1} moves\")\n",
    "        print(f\"  Path: {path}\")\n",
    "    else:\n",
    "        print(f\"  ✗ No path found\")\n",
    "\n",
    "    print()  # Empty line for readability\n",
    "    return path"
   ],
   "id": "274d3f4a77562ef1",
   "outputs": [],
   "execution_count": 14
  },
  {
   "metadata": {
    "ExecuteTime": {
     "end_time": "2025-09-27T07:01:42.463763Z",
     "start_time": "2025-09-27T07:01:41.561081Z"
    }
   },
   "cell_type": "code",
   "source": [
    "# Run and compare algorithms (agent problem solving strategies)\n",
    "algorithms = {\n",
    "    \"BFS\": lambda m, s, g: bfs(m, s, g),\n",
    "    \"DFS\": lambda m, s, g: dfs(m, s, g),\n",
    "    \"DLS (limit=15)\": lambda m, s, g: dls(m, s, g, 15),\n",
    "    \"IDDFS (max_depth=20)\": lambda m, s, g: iddfs(m, s, g, 20),\n",
    "    \"UCS (Original)\": lambda m, s, g: ucs(m, s, g),\n",
    "    \"UCS-While (Modified)\": lambda m, s, g: ucs(m, s, g)\n",
    "}\n",
    "\n",
    "# Test on Maze 1\n",
    "print(\"TESTING ON MAZE 1:\")\n",
    "for name, algo_func in algorithms.items():\n",
    "    test_algorithm(maze1, start, goal, name, algo_func)\n",
    "\n",
    "print(\"TESTING ON MAZE 2:\")\n",
    "for name, algo_func in algorithms.items():\n",
    "    test_algorithm(maze2, start, goal, name, algo_func)"
   ],
   "id": "96bc60d938666118",
   "outputs": [
    {
     "name": "stdout",
     "output_type": "stream",
     "text": [
      "TESTING ON MAZE 1:\n",
      "Running BFS:\n",
      "  ✓ Path found! Length: 18 moves\n",
      "  Path: [(0, 0), (1, 0), (2, 0), (2, 1), (2, 2), (2, 3), (3, 3), (4, 3), (4, 4), (4, 5), (5, 5), (6, 5), (6, 6), (6, 7), (7, 7), (8, 7), (8, 8), (8, 9), (9, 9)]\n",
      "\n",
      "Running DFS:\n",
      "  ✓ Path found! Length: 18 moves\n",
      "  Path: [(0, 0), (0, 1), (0, 2), (0, 3), (0, 4), (0, 5), (0, 6), (0, 7), (0, 8), (0, 9), (1, 9), (2, 9), (3, 9), (4, 9), (5, 9), (6, 9), (7, 9), (8, 9), (9, 9)]\n",
      "\n",
      "Running DLS (limit=15):\n",
      "  ✗ No path found\n",
      "\n",
      "Running IDDFS (max_depth=20):\n",
      "  ✓ Path found! Length: 18 moves\n",
      "  Path: [(0, 0), (0, 1), (0, 2), (0, 3), (0, 4), (0, 5), (0, 6), (0, 7), (0, 8), (0, 9), (1, 9), (2, 9), (3, 9), (4, 9), (5, 9), (6, 9), (7, 9), (8, 9), (9, 9)]\n",
      "\n",
      "Running UCS (Original):\n",
      "  ✓ Path found! Length: 18 moves\n",
      "  Path: [(0, 0), (0, 1), (0, 2), (0, 3), (0, 4), (0, 5), (0, 6), (0, 7), (0, 8), (0, 9), (1, 9), (2, 9), (3, 9), (4, 9), (5, 9), (6, 9), (7, 9), (8, 9), (9, 9)]\n",
      "\n",
      "Running UCS-While (Modified):\n",
      "  ✓ Path found! Length: 18 moves\n",
      "  Path: [(0, 0), (0, 1), (0, 2), (0, 3), (0, 4), (0, 5), (0, 6), (0, 7), (0, 8), (0, 9), (1, 9), (2, 9), (3, 9), (4, 9), (5, 9), (6, 9), (7, 9), (8, 9), (9, 9)]\n",
      "\n",
      "TESTING ON MAZE 2:\n",
      "Running BFS:\n",
      "  ✓ Path found! Length: 18 moves\n",
      "  Path: [(0, 0), (1, 0), (2, 0), (2, 1), (2, 2), (2, 3), (2, 4), (2, 5), (2, 6), (2, 7), (3, 7), (4, 7), (4, 8), (4, 9), (5, 9), (6, 9), (7, 9), (8, 9), (9, 9)]\n",
      "\n",
      "Running DFS:\n",
      "  ✓ Path found! Length: 18 moves\n",
      "  Path: [(0, 0), (1, 0), (2, 0), (2, 1), (2, 2), (2, 3), (2, 4), (2, 5), (2, 6), (2, 7), (3, 7), (4, 7), (4, 8), (4, 9), (5, 9), (6, 9), (7, 9), (8, 9), (9, 9)]\n",
      "\n",
      "Running DLS (limit=15):\n",
      "  ✗ No path found\n",
      "\n",
      "Running IDDFS (max_depth=20):\n",
      "  ✓ Path found! Length: 18 moves\n",
      "  Path: [(0, 0), (1, 0), (2, 0), (2, 1), (2, 2), (2, 3), (2, 4), (2, 5), (2, 6), (2, 7), (3, 7), (4, 7), (4, 8), (4, 9), (5, 9), (6, 9), (7, 9), (8, 9), (9, 9)]\n",
      "\n",
      "Running UCS (Original):\n",
      "  ✓ Path found! Length: 18 moves\n",
      "  Path: [(0, 0), (1, 0), (2, 0), (2, 1), (2, 2), (2, 3), (2, 4), (2, 5), (2, 6), (2, 7), (3, 7), (4, 7), (4, 8), (4, 9), (5, 9), (6, 9), (7, 9), (8, 9), (9, 9)]\n",
      "\n",
      "Running UCS-While (Modified):\n",
      "  ✓ Path found! Length: 18 moves\n",
      "  Path: [(0, 0), (1, 0), (2, 0), (2, 1), (2, 2), (2, 3), (2, 4), (2, 5), (2, 6), (2, 7), (3, 7), (4, 7), (4, 8), (4, 9), (5, 9), (6, 9), (7, 9), (8, 9), (9, 9)]\n",
      "\n"
     ]
    }
   ],
   "execution_count": 17
  }
 ],
 "metadata": {
  "kernelspec": {
   "display_name": "Python 3",
   "language": "python",
   "name": "python3"
  },
  "language_info": {
   "codemirror_mode": {
    "name": "ipython",
    "version": 2
   },
   "file_extension": ".py",
   "mimetype": "text/x-python",
   "name": "python",
   "nbconvert_exporter": "python",
   "pygments_lexer": "ipython2",
   "version": "2.7.6"
  }
 },
 "nbformat": 4,
 "nbformat_minor": 5
}
