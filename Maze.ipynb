{
 "cells": [
  {
   "cell_type": "code",
   "id": "initial_id",
   "metadata": {
    "collapsed": true,
    "ExecuteTime": {
     "end_time": "2025-09-03T06:59:11.214433Z",
     "start_time": "2025-09-03T06:59:11.206996Z"
    }
   },
   "source": [
    "grid = [\n",
    "    [0, 0, 0, 0, 0],\n",
    "    [1, 1, 0, 1, 1],\n",
    "    [0, 0, 1, 0, 0],\n",
    "    [0, 1, 0, 1, 1],\n",
    "    [0, 0, 0, 0, 0],\n",
    "]"
   ],
   "outputs": [],
   "execution_count": 25
  },
  {
   "metadata": {
    "ExecuteTime": {
     "end_time": "2025-09-03T06:59:12.855389Z",
     "start_time": "2025-09-03T06:59:12.813047Z"
    }
   },
   "cell_type": "code",
   "source": [
    "#tuples\n",
    "actions = [(0, -1), (0, 1), (-1, 0), (1, 0), (1, -1)]"
   ],
   "id": "6b16b772cfb7eaff",
   "outputs": [],
   "execution_count": 26
  },
  {
   "metadata": {
    "ExecuteTime": {
     "end_time": "2025-09-03T06:59:14.768468Z",
     "start_time": "2025-09-03T06:59:14.761913Z"
    }
   },
   "cell_type": "code",
   "source": [
    "def is_valid_move(position):\n",
    "    x, y = position\n",
    "\n",
    "    if 0 <= x < len(grid) and 0 <= y < len(grid[0]) and grid[x][y] == 0:\n",
    "        return True\n",
    "\n",
    "    return False\n"
   ],
   "id": "c784e0473893a7db",
   "outputs": [],
   "execution_count": 27
  },
  {
   "metadata": {
    "ExecuteTime": {
     "end_time": "2025-09-03T06:59:16.592515Z",
     "start_time": "2025-09-03T06:59:16.586383Z"
    }
   },
   "cell_type": "code",
   "source": [
    "def get_neighbors(position):\n",
    "    neighbors = []\n",
    "\n",
    "    for action in actions:\n",
    "        dx, dy = action\n",
    "        neighbour = (position[0] + dx, position[1] + dy)\n",
    "        if is_valid_move(neighbour):\n",
    "            neighbors.append(neighbour)\n",
    "\n",
    "    return neighbors"
   ],
   "id": "e95a284a059e1e25",
   "outputs": [],
   "execution_count": 28
  },
  {
   "metadata": {
    "ExecuteTime": {
     "end_time": "2025-09-03T06:59:19.792712Z",
     "start_time": "2025-09-03T06:59:19.787210Z"
    }
   },
   "cell_type": "code",
   "source": [
    "def dfs(current, goal, path):\n",
    "    if current == goal:\n",
    "        return True\n",
    "\n",
    "    for neighbour in get_neighbors(current):\n",
    "        if neighbour not in path:\n",
    "            path.append(neighbour)\n",
    "            if dfs(neighbour, goal, path):\n",
    "                return True\n",
    "            path.remove(neighbour)\n",
    "\n",
    "    return False"
   ],
   "id": "7e4e2da510d015ec",
   "outputs": [],
   "execution_count": 29
  },
  {
   "metadata": {
    "ExecuteTime": {
     "end_time": "2025-09-03T06:59:24.753995Z",
     "start_time": "2025-09-03T06:59:24.747552Z"
    }
   },
   "cell_type": "code",
   "source": [
    "init_state = (0, 0)\n",
    "goal_state = (4, 4)\n",
    "\n",
    "path = [init_state]\n",
    "\n",
    "\n",
    "if dfs(init_state, goal_state, path):\n",
    "    print(\"Path found\")\n",
    "    print(path)\n",
    "else:\n",
    "    print(\"path not found\")\n"
   ],
   "id": "362bd878725f567",
   "outputs": [
    {
     "name": "stdout",
     "output_type": "stream",
     "text": [
      "Path found\n",
      "[(0, 0), (0, 1), (0, 2), (0, 3), (1, 2), (2, 1), (2, 0), (3, 0), (4, 0), (4, 1), (4, 2), (4, 3), (4, 4)]\n"
     ]
    }
   ],
   "execution_count": 30
  }
 ],
 "metadata": {
  "kernelspec": {
   "display_name": "Python 3",
   "language": "python",
   "name": "python3"
  },
  "language_info": {
   "codemirror_mode": {
    "name": "ipython",
    "version": 2
   },
   "file_extension": ".py",
   "mimetype": "text/x-python",
   "name": "python",
   "nbconvert_exporter": "python",
   "pygments_lexer": "ipython2",
   "version": "2.7.6"
  }
 },
 "nbformat": 4,
 "nbformat_minor": 5
}
